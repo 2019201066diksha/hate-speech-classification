{
  "nbformat": 4,
  "nbformat_minor": 0,
  "metadata": {
    "colab": {
      "name": "AICrowdQ1.ipynb",
      "provenance": [],
      "collapsed_sections": [
        "tuoUrMXL3myU",
        "zuccqquW3o6D",
        "GmM0EZmO3rub"
      ]
    },
    "kernelspec": {
      "name": "python3",
      "display_name": "Python 3"
    },
    "accelerator": "GPU"
  },
  "cells": [
    {
      "cell_type": "code",
      "metadata": {
        "id": "2bth3hf32au_",
        "colab_type": "code",
        "outputId": "8d187310-f305-4be8-885e-616df37dffca",
        "colab": {
          "base_uri": "https://localhost:8080/",
          "height": 141
        }
      },
      "source": [
        "from google.colab import drive\n",
        "drive.mount('/gdrive')\n",
        "\n",
        "%cd /gdrive"
      ],
      "execution_count": 1,
      "outputs": [
        {
          "output_type": "stream",
          "text": [
            "Go to this URL in a browser: https://accounts.google.com/o/oauth2/auth?client_id=947318989803-6bn6qk8qdgf4n4g3pfee6491hc0brc4i.apps.googleusercontent.com&redirect_uri=urn%3aietf%3awg%3aoauth%3a2.0%3aoob&response_type=code&scope=email%20https%3a%2f%2fwww.googleapis.com%2fauth%2fdocs.test%20https%3a%2f%2fwww.googleapis.com%2fauth%2fdrive%20https%3a%2f%2fwww.googleapis.com%2fauth%2fdrive.photos.readonly%20https%3a%2f%2fwww.googleapis.com%2fauth%2fpeopleapi.readonly\n",
            "\n",
            "Enter your authorization code:\n",
            "··········\n",
            "Mounted at /gdrive\n",
            "/gdrive\n"
          ],
          "name": "stdout"
        }
      ]
    },
    {
      "cell_type": "code",
      "metadata": {
        "id": "fMdwutqC2bpj",
        "colab_type": "code",
        "colab": {}
      },
      "source": [
        "%matplotlib inline"
      ],
      "execution_count": 0,
      "outputs": []
    },
    {
      "cell_type": "code",
      "metadata": {
        "id": "FHYMxl1e2d5g",
        "colab_type": "code",
        "colab": {}
      },
      "source": [
        "import re\n",
        "import numpy as np\n",
        "import pandas as pd\n",
        "import itertools\n",
        "import matplotlib.pyplot as plt\n",
        "\n",
        "from bs4 import BeautifulSoup\n",
        "\n",
        "from sklearn.metrics import confusion_matrix, classification_report, f1_score, accuracy_score\n",
        "\n",
        "from keras.preprocessing.text import Tokenizer\n",
        "from keras.preprocessing.sequence import pad_sequences\n",
        "from keras.utils import to_categorical\n",
        "\n",
        "from keras.layers import Input, LSTM, Embedding, Dense, Dropout, Conv1D, MaxPooling1D, Flatten, TimeDistributed, InputLayer, GlobalMaxPooling1D\n",
        "from keras.models import Model, Sequential\n",
        "from keras.callbacks.callbacks import Callback, EarlyStopping"
      ],
      "execution_count": 0,
      "outputs": []
    },
    {
      "cell_type": "code",
      "metadata": {
        "id": "rmnx-hyeEvIq",
        "colab_type": "code",
        "outputId": "890280b4-b1dc-4151-c357-f17002611364",
        "colab": {
          "base_uri": "https://localhost:8080/",
          "height": 206
        }
      },
      "source": [
        "train_data = pd.read_csv(\"/gdrive/My Drive/Dataset/AICrowd/HateSpeechDetection/1fe720be-90e4-4e06-9b52-9de93e0ea937_train.csv\")\n",
        "test_data = pd.read_csv(\"/gdrive/My Drive/Dataset/AICrowd/HateSpeechDetection/fcac6286-6db1-4577-ad80-612fb9d36db9_test.csv\")\n",
        "train_data.head()"
      ],
      "execution_count": 11,
      "outputs": [
        {
          "output_type": "execute_result",
          "data": {
            "text/html": [
              "<div>\n",
              "<style scoped>\n",
              "    .dataframe tbody tr th:only-of-type {\n",
              "        vertical-align: middle;\n",
              "    }\n",
              "\n",
              "    .dataframe tbody tr th {\n",
              "        vertical-align: top;\n",
              "    }\n",
              "\n",
              "    .dataframe thead th {\n",
              "        text-align: right;\n",
              "    }\n",
              "</style>\n",
              "<table border=\"1\" class=\"dataframe\">\n",
              "  <thead>\n",
              "    <tr style=\"text-align: right;\">\n",
              "      <th></th>\n",
              "      <th>text</th>\n",
              "      <th>labels</th>\n",
              "    </tr>\n",
              "  </thead>\n",
              "  <tbody>\n",
              "    <tr>\n",
              "      <th>0</th>\n",
              "      <td>@realDonaldTrump This is one of the worst time...</td>\n",
              "      <td>0</td>\n",
              "    </tr>\n",
              "    <tr>\n",
              "      <th>1</th>\n",
              "      <td>How about the crowd in Oval in today's #AUSvIN...</td>\n",
              "      <td>1</td>\n",
              "    </tr>\n",
              "    <tr>\n",
              "      <th>2</th>\n",
              "      <td>@skroskz @shossy2 @JoeBiden Biden &amp;amp; his so...</td>\n",
              "      <td>0</td>\n",
              "    </tr>\n",
              "    <tr>\n",
              "      <th>3</th>\n",
              "      <td>#etsy shop: Benedict Donald so called presiden...</td>\n",
              "      <td>1</td>\n",
              "    </tr>\n",
              "    <tr>\n",
              "      <th>4</th>\n",
              "      <td>@realDonaldTrump Good build a wall around Arka...</td>\n",
              "      <td>0</td>\n",
              "    </tr>\n",
              "  </tbody>\n",
              "</table>\n",
              "</div>"
            ],
            "text/plain": [
              "                                                text  labels\n",
              "0  @realDonaldTrump This is one of the worst time...       0\n",
              "1  How about the crowd in Oval in today's #AUSvIN...       1\n",
              "2  @skroskz @shossy2 @JoeBiden Biden &amp; his so...       0\n",
              "3  #etsy shop: Benedict Donald so called presiden...       1\n",
              "4  @realDonaldTrump Good build a wall around Arka...       0"
            ]
          },
          "metadata": {
            "tags": []
          },
          "execution_count": 11
        }
      ]
    },
    {
      "cell_type": "code",
      "metadata": {
        "id": "D9xjdD7mhu8A",
        "colab_type": "code",
        "colab": {
          "base_uri": "https://localhost:8080/",
          "height": 34
        },
        "outputId": "52170ace-eaf3-451e-c246-7a93715ae4d6"
      },
      "source": [
        "train_data.shape, test_data.shape"
      ],
      "execution_count": 12,
      "outputs": [
        {
          "output_type": "execute_result",
          "data": {
            "text/plain": [
              "((5266, 2), (1153, 3))"
            ]
          },
          "metadata": {
            "tags": []
          },
          "execution_count": 12
        }
      ]
    },
    {
      "cell_type": "code",
      "metadata": {
        "id": "4rMTTjmF2jpK",
        "colab_type": "code",
        "outputId": "0847459f-589a-438b-8bd0-278517d20afb",
        "colab": {
          "base_uri": "https://localhost:8080/",
          "height": 206
        }
      },
      "source": [
        "def clean_text(line):\n",
        "    pat1 = r'@[A-Za-z0-9]+'\n",
        "    pat2 = r'https?://[A-Za-z0-9./]+'\n",
        "    combined_pat = r'|'.join((pat1, pat2))\n",
        "    \n",
        "    soup = BeautifulSoup(line, 'lxml')\n",
        "    souped = soup.get_text()\n",
        "    stripped = re.sub(combined_pat, '', souped)\n",
        "    try:\n",
        "        clean = stripped.decode(\"utf-8-sig\").replace(u\"\\ufffd\", \"?\")\n",
        "    except:\n",
        "        clean = stripped\n",
        "    letters_only = re.sub(\"[^a-zA-Z]\", \" \", clean)\n",
        "    lower_case = letters_only.lower()\n",
        "    split = lower_case.split(\" \")\n",
        "    return \" \".join(list(filter(None, split))).strip()\n",
        "\n",
        "def get_indices(x): return np.argmax(x)\n",
        "\n",
        "train_data[\"clean_text\"] = train_data.text.apply(lambda x: clean_text(x))\n",
        "train_data.head()"
      ],
      "execution_count": 13,
      "outputs": [
        {
          "output_type": "execute_result",
          "data": {
            "text/html": [
              "<div>\n",
              "<style scoped>\n",
              "    .dataframe tbody tr th:only-of-type {\n",
              "        vertical-align: middle;\n",
              "    }\n",
              "\n",
              "    .dataframe tbody tr th {\n",
              "        vertical-align: top;\n",
              "    }\n",
              "\n",
              "    .dataframe thead th {\n",
              "        text-align: right;\n",
              "    }\n",
              "</style>\n",
              "<table border=\"1\" class=\"dataframe\">\n",
              "  <thead>\n",
              "    <tr style=\"text-align: right;\">\n",
              "      <th></th>\n",
              "      <th>text</th>\n",
              "      <th>labels</th>\n",
              "      <th>clean_text</th>\n",
              "    </tr>\n",
              "  </thead>\n",
              "  <tbody>\n",
              "    <tr>\n",
              "      <th>0</th>\n",
              "      <td>@realDonaldTrump This is one of the worst time...</td>\n",
              "      <td>0</td>\n",
              "      <td>this is one of the worst times to be american ...</td>\n",
              "    </tr>\n",
              "    <tr>\n",
              "      <th>1</th>\n",
              "      <td>How about the crowd in Oval in today's #AUSvIN...</td>\n",
              "      <td>1</td>\n",
              "      <td>how about the crowd in oval in today s ausvind...</td>\n",
              "    </tr>\n",
              "    <tr>\n",
              "      <th>2</th>\n",
              "      <td>@skroskz @shossy2 @JoeBiden Biden &amp;amp; his so...</td>\n",
              "      <td>0</td>\n",
              "      <td>biden his son hunter took advantage of their p...</td>\n",
              "    </tr>\n",
              "    <tr>\n",
              "      <th>3</th>\n",
              "      <td>#etsy shop: Benedict Donald so called presiden...</td>\n",
              "      <td>1</td>\n",
              "      <td>etsy shop benedict donald so called president ...</td>\n",
              "    </tr>\n",
              "    <tr>\n",
              "      <th>4</th>\n",
              "      <td>@realDonaldTrump Good build a wall around Arka...</td>\n",
              "      <td>0</td>\n",
              "      <td>good build a wall around arkansas fucktrump fu...</td>\n",
              "    </tr>\n",
              "  </tbody>\n",
              "</table>\n",
              "</div>"
            ],
            "text/plain": [
              "                                                text  ...                                         clean_text\n",
              "0  @realDonaldTrump This is one of the worst time...  ...  this is one of the worst times to be american ...\n",
              "1  How about the crowd in Oval in today's #AUSvIN...  ...  how about the crowd in oval in today s ausvind...\n",
              "2  @skroskz @shossy2 @JoeBiden Biden &amp; his so...  ...  biden his son hunter took advantage of their p...\n",
              "3  #etsy shop: Benedict Donald so called presiden...  ...  etsy shop benedict donald so called president ...\n",
              "4  @realDonaldTrump Good build a wall around Arka...  ...  good build a wall around arkansas fucktrump fu...\n",
              "\n",
              "[5 rows x 3 columns]"
            ]
          },
          "metadata": {
            "tags": []
          },
          "execution_count": 13
        }
      ]
    },
    {
      "cell_type": "code",
      "metadata": {
        "id": "7zUyV0qc2w4Z",
        "colab_type": "code",
        "colab": {}
      },
      "source": [
        "MAX_NB_WORDS = 10000\n",
        "MAX_SEQUENCE_LENGTH = 200\n",
        "VALIDATION_SPLIT = 0.33\n",
        "EMBEDDING_DIM = 200\n",
        "\n",
        "EMBEDDING_PATH = \"/gdrive/My Drive/Dataset/WordEmbeddings/glove.twitter.27B.200d.txt\""
      ],
      "execution_count": 0,
      "outputs": []
    },
    {
      "cell_type": "code",
      "metadata": {
        "id": "PRyRPHmJ2yQ5",
        "colab_type": "code",
        "outputId": "0280b3f8-05ea-4cf6-da3e-892aa5e50dab",
        "colab": {
          "base_uri": "https://localhost:8080/",
          "height": 34
        }
      },
      "source": [
        "embeddings_index = {}\n",
        "f = open(EMBEDDING_PATH)\n",
        "for line in f:\n",
        "    values = line.split()\n",
        "    word = values[0]\n",
        "    coefs = np.asarray(values[1:], dtype='float32')\n",
        "    embeddings_index[word] = coefs\n",
        "f.close()\n",
        "\n",
        "print('Found %s word vectors.' % len(embeddings_index))"
      ],
      "execution_count": 15,
      "outputs": [
        {
          "output_type": "stream",
          "text": [
            "Found 1193514 word vectors.\n"
          ],
          "name": "stdout"
        }
      ]
    },
    {
      "cell_type": "code",
      "metadata": {
        "id": "apG7k24o20h4",
        "colab_type": "code",
        "outputId": "ea3318e6-9663-4c03-82b7-40fde31f3cdc",
        "colab": {
          "base_uri": "https://localhost:8080/",
          "height": 124
        }
      },
      "source": [
        "tokenizer = Tokenizer(nb_words=MAX_NB_WORDS)\n",
        "tokenizer.fit_on_texts(train_data[\"clean_text\"])\n",
        "\n",
        "sequences = tokenizer.texts_to_sequences(train_data[\"clean_text\"])\n",
        "\n",
        "word_index = tokenizer.word_index\n",
        "print('Found %s unique tokens.' % len(word_index))\n",
        "\n",
        "data = pad_sequences(sequences, maxlen=MAX_SEQUENCE_LENGTH)\n",
        "\n",
        "labels = to_categorical(np.asarray(train_data[\"labels\"]))\n",
        "print('Shape of data tensor:', data.shape)\n",
        "print('Shape of label tensor:', labels.shape)\n",
        "\n",
        "# split the data into a training set and a validation set\n",
        "indices = np.arange(data.shape[0])\n",
        "np.random.shuffle(indices)\n",
        "data = data[indices]\n",
        "labels = labels[indices]\n",
        "nb_validation_samples = int(VALIDATION_SPLIT * data.shape[0])\n",
        "\n",
        "x_train = data[:-nb_validation_samples]\n",
        "y_train = labels[:-nb_validation_samples]\n",
        "\n",
        "x_val = data[-nb_validation_samples:]\n",
        "y_val = labels[-nb_validation_samples:]"
      ],
      "execution_count": 16,
      "outputs": [
        {
          "output_type": "stream",
          "text": [
            "/usr/local/lib/python3.6/dist-packages/keras_preprocessing/text.py:178: UserWarning: The `nb_words` argument in `Tokenizer` has been renamed `num_words`.\n",
            "  warnings.warn('The `nb_words` argument in `Tokenizer` '\n"
          ],
          "name": "stderr"
        },
        {
          "output_type": "stream",
          "text": [
            "Found 13623 unique tokens.\n",
            "Shape of data tensor: (5266, 200)\n",
            "Shape of label tensor: (5266, 2)\n"
          ],
          "name": "stdout"
        }
      ]
    },
    {
      "cell_type": "code",
      "metadata": {
        "id": "-NJq98Lk2086",
        "colab_type": "code",
        "colab": {}
      },
      "source": [
        "embedding_matrix = np.zeros((len(word_index) + 1, EMBEDDING_DIM))\n",
        "for word, i in word_index.items():\n",
        "    embedding_vector = embeddings_index.get(word)\n",
        "    if embedding_vector is not None:\n",
        "        # words not found in embedding index will be all-zeros.\n",
        "        embedding_matrix[i] = embedding_vector"
      ],
      "execution_count": 0,
      "outputs": []
    },
    {
      "cell_type": "markdown",
      "metadata": {
        "id": "UqQHPReb3lyi",
        "colab_type": "text"
      },
      "source": [
        "# Neural Models"
      ]
    },
    {
      "cell_type": "markdown",
      "metadata": {
        "id": "tuoUrMXL3myU",
        "colab_type": "text"
      },
      "source": [
        "## MLP"
      ]
    },
    {
      "cell_type": "code",
      "metadata": {
        "id": "rZtJH2hf24wC",
        "colab_type": "code",
        "colab": {}
      },
      "source": [
        "def mlp_model():\n",
        "    model = Sequential()\n",
        "    model.add(Embedding(len(word_index) + 1, EMBEDDING_DIM, weights=[embedding_matrix], input_length=MAX_SEQUENCE_LENGTH, trainable=False))\n",
        "    model.add(Dense(100, activation=\"relu\"))\n",
        "    model.add(Dropout(0.5))\n",
        "    model.add(Dense(10, activation=\"relu\"))\n",
        "    model.add(Dropout(0.5))\n",
        "    model.add(Flatten())\n",
        "\n",
        "    model.add(Dense(1000, activation=\"relu\"))\n",
        "    model.add(Dropout(0.5))\n",
        "    model.add(Dense(500, activation=\"relu\"))\n",
        "    model.add(Dropout(0.5))\n",
        "    model.add(Dense(100, activation=\"relu\"))\n",
        "    model.add(Dropout(0.5))\n",
        "    model.add(Dense(10, activation=\"relu\"))\n",
        "    model.add(Dropout(0.5))\n",
        "    model.add(Dense(2, activation=\"softmax\"))\n",
        "\n",
        "    print(model.summary())\n",
        "\n",
        "    return model"
      ],
      "execution_count": 0,
      "outputs": []
    },
    {
      "cell_type": "code",
      "metadata": {
        "id": "8af-j87L27ty",
        "colab_type": "code",
        "outputId": "ea0dc4c1-ec87-4ece-bcc8-af104aa5e371",
        "colab": {
          "base_uri": "https://localhost:8080/",
          "height": 1000
        }
      },
      "source": [
        "cbacks = EarlyStopping(monitor='val_loss', patience=10)\n",
        "\n",
        "print(\"Model used : {}\".format(\"MLP Only\"))\n",
        "mlp = mlp_model()\n",
        "\n",
        "mlp.compile(loss='binary_crossentropy',\n",
        "              optimizer='adam',\n",
        "              metrics=['acc'])\n",
        "\n",
        "mlp.fit(x_train, y_train, \n",
        "          validation_data=(x_val, y_val),\n",
        "          epochs=100, \n",
        "          callbacks = [cbacks],\n",
        "          batch_size=256)\n",
        "\n",
        "loss, acc = mlp.evaluate(x_val, y_val)\n",
        "print({\"loss\": loss, \"acc\": acc})\n",
        "\n",
        "y_pred = list(map(get_indices, mlp.predict(x_val)))\n",
        "y_true = list(map(get_indices, y_val))\n",
        "\n",
        "print(\"F1 Score : {}\".format(f1_score(y_true=y_true, y_pred=y_pred)))\n",
        "print(classification_report(y_true=y_true, y_pred=y_pred))"
      ],
      "execution_count": 19,
      "outputs": [
        {
          "output_type": "stream",
          "text": [
            "Model used : MLP Only\n",
            "Model: \"sequential_1\"\n",
            "_________________________________________________________________\n",
            "Layer (type)                 Output Shape              Param #   \n",
            "=================================================================\n",
            "embedding_1 (Embedding)      (None, 200, 200)          2724800   \n",
            "_________________________________________________________________\n",
            "dense_1 (Dense)              (None, 200, 100)          20100     \n",
            "_________________________________________________________________\n",
            "dropout_1 (Dropout)          (None, 200, 100)          0         \n",
            "_________________________________________________________________\n",
            "dense_2 (Dense)              (None, 200, 10)           1010      \n",
            "_________________________________________________________________\n",
            "dropout_2 (Dropout)          (None, 200, 10)           0         \n",
            "_________________________________________________________________\n",
            "flatten_1 (Flatten)          (None, 2000)              0         \n",
            "_________________________________________________________________\n",
            "dense_3 (Dense)              (None, 1000)              2001000   \n",
            "_________________________________________________________________\n",
            "dropout_3 (Dropout)          (None, 1000)              0         \n",
            "_________________________________________________________________\n",
            "dense_4 (Dense)              (None, 500)               500500    \n",
            "_________________________________________________________________\n",
            "dropout_4 (Dropout)          (None, 500)               0         \n",
            "_________________________________________________________________\n",
            "dense_5 (Dense)              (None, 100)               50100     \n",
            "_________________________________________________________________\n",
            "dropout_5 (Dropout)          (None, 100)               0         \n",
            "_________________________________________________________________\n",
            "dense_6 (Dense)              (None, 10)                1010      \n",
            "_________________________________________________________________\n",
            "dropout_6 (Dropout)          (None, 10)                0         \n",
            "_________________________________________________________________\n",
            "dense_7 (Dense)              (None, 2)                 22        \n",
            "=================================================================\n",
            "Total params: 5,298,542\n",
            "Trainable params: 2,573,742\n",
            "Non-trainable params: 2,724,800\n",
            "_________________________________________________________________\n",
            "None\n",
            "Train on 3529 samples, validate on 1737 samples\n",
            "Epoch 1/100\n",
            "3529/3529 [==============================] - 2s 641us/step - loss: 0.6970 - acc: 0.5827 - val_loss: 0.6832 - val_acc: 0.6056\n",
            "Epoch 2/100\n",
            "3529/3529 [==============================] - 0s 57us/step - loss: 0.6825 - acc: 0.6118 - val_loss: 0.6820 - val_acc: 0.6056\n",
            "Epoch 3/100\n",
            "3529/3529 [==============================] - 0s 47us/step - loss: 0.6797 - acc: 0.6172 - val_loss: 0.6780 - val_acc: 0.6056\n",
            "Epoch 4/100\n",
            "3529/3529 [==============================] - 0s 49us/step - loss: 0.6744 - acc: 0.6175 - val_loss: 0.6770 - val_acc: 0.6056\n",
            "Epoch 5/100\n",
            "3529/3529 [==============================] - 0s 47us/step - loss: 0.6741 - acc: 0.6172 - val_loss: 0.6735 - val_acc: 0.6056\n",
            "Epoch 6/100\n",
            "3529/3529 [==============================] - 0s 49us/step - loss: 0.6710 - acc: 0.6186 - val_loss: 0.6723 - val_acc: 0.6056\n",
            "Epoch 7/100\n",
            "3529/3529 [==============================] - 0s 45us/step - loss: 0.6685 - acc: 0.6186 - val_loss: 0.6714 - val_acc: 0.6056\n",
            "Epoch 8/100\n",
            "3529/3529 [==============================] - 0s 45us/step - loss: 0.6672 - acc: 0.6177 - val_loss: 0.6712 - val_acc: 0.6056\n",
            "Epoch 9/100\n",
            "3529/3529 [==============================] - 0s 45us/step - loss: 0.6656 - acc: 0.6183 - val_loss: 0.6703 - val_acc: 0.6056\n",
            "Epoch 10/100\n",
            "3529/3529 [==============================] - 0s 50us/step - loss: 0.6662 - acc: 0.6175 - val_loss: 0.6679 - val_acc: 0.6056\n",
            "Epoch 11/100\n",
            "3529/3529 [==============================] - 0s 45us/step - loss: 0.6633 - acc: 0.6186 - val_loss: 0.6668 - val_acc: 0.6056\n",
            "Epoch 12/100\n",
            "3529/3529 [==============================] - 0s 45us/step - loss: 0.6666 - acc: 0.6183 - val_loss: 0.6693 - val_acc: 0.6056\n",
            "Epoch 13/100\n",
            "3529/3529 [==============================] - 0s 47us/step - loss: 0.6630 - acc: 0.6186 - val_loss: 0.6657 - val_acc: 0.6056\n",
            "Epoch 14/100\n",
            "3529/3529 [==============================] - 0s 47us/step - loss: 0.6572 - acc: 0.6183 - val_loss: 0.6622 - val_acc: 0.6056\n",
            "Epoch 15/100\n",
            "3529/3529 [==============================] - 0s 48us/step - loss: 0.6592 - acc: 0.6183 - val_loss: 0.6623 - val_acc: 0.6056\n",
            "Epoch 16/100\n",
            "3529/3529 [==============================] - 0s 45us/step - loss: 0.6578 - acc: 0.6189 - val_loss: 0.6595 - val_acc: 0.6056\n",
            "Epoch 17/100\n",
            "3529/3529 [==============================] - 0s 45us/step - loss: 0.6543 - acc: 0.6186 - val_loss: 0.6581 - val_acc: 0.6056\n",
            "Epoch 18/100\n",
            "3529/3529 [==============================] - 0s 45us/step - loss: 0.6527 - acc: 0.6186 - val_loss: 0.6562 - val_acc: 0.6056\n",
            "Epoch 19/100\n",
            "3529/3529 [==============================] - 0s 44us/step - loss: 0.6514 - acc: 0.6186 - val_loss: 0.6552 - val_acc: 0.6056\n",
            "Epoch 20/100\n",
            "3529/3529 [==============================] - 0s 46us/step - loss: 0.6489 - acc: 0.6180 - val_loss: 0.6527 - val_acc: 0.6056\n",
            "Epoch 21/100\n",
            "3529/3529 [==============================] - 0s 45us/step - loss: 0.6441 - acc: 0.6186 - val_loss: 0.6502 - val_acc: 0.6056\n",
            "Epoch 22/100\n",
            "3529/3529 [==============================] - 0s 44us/step - loss: 0.6401 - acc: 0.6186 - val_loss: 0.6516 - val_acc: 0.6056\n",
            "Epoch 23/100\n",
            "3529/3529 [==============================] - 0s 46us/step - loss: 0.6412 - acc: 0.6186 - val_loss: 0.6477 - val_acc: 0.6056\n",
            "Epoch 24/100\n",
            "3529/3529 [==============================] - 0s 46us/step - loss: 0.6347 - acc: 0.6186 - val_loss: 0.6469 - val_acc: 0.6056\n",
            "Epoch 25/100\n",
            "3529/3529 [==============================] - 0s 44us/step - loss: 0.6388 - acc: 0.6203 - val_loss: 0.6493 - val_acc: 0.6056\n",
            "Epoch 26/100\n",
            "3529/3529 [==============================] - 0s 45us/step - loss: 0.6375 - acc: 0.6177 - val_loss: 0.6461 - val_acc: 0.6056\n",
            "Epoch 27/100\n",
            "3529/3529 [==============================] - 0s 47us/step - loss: 0.6331 - acc: 0.6217 - val_loss: 0.6446 - val_acc: 0.6056\n",
            "Epoch 28/100\n",
            "3529/3529 [==============================] - 0s 50us/step - loss: 0.6378 - acc: 0.6231 - val_loss: 0.6445 - val_acc: 0.6039\n",
            "Epoch 29/100\n",
            "3529/3529 [==============================] - 0s 47us/step - loss: 0.6248 - acc: 0.6240 - val_loss: 0.6419 - val_acc: 0.6045\n",
            "Epoch 30/100\n",
            "3529/3529 [==============================] - 0s 45us/step - loss: 0.6260 - acc: 0.6203 - val_loss: 0.6454 - val_acc: 0.6258\n",
            "Epoch 31/100\n",
            "3529/3529 [==============================] - 0s 45us/step - loss: 0.6198 - acc: 0.6345 - val_loss: 0.6408 - val_acc: 0.6120\n",
            "Epoch 32/100\n",
            "3529/3529 [==============================] - 0s 46us/step - loss: 0.6260 - acc: 0.6347 - val_loss: 0.6429 - val_acc: 0.6074\n",
            "Epoch 33/100\n",
            "3529/3529 [==============================] - 0s 48us/step - loss: 0.6184 - acc: 0.6282 - val_loss: 0.6450 - val_acc: 0.6074\n",
            "Epoch 34/100\n",
            "3529/3529 [==============================] - 0s 48us/step - loss: 0.6159 - acc: 0.6330 - val_loss: 0.6398 - val_acc: 0.6172\n",
            "Epoch 35/100\n",
            "3529/3529 [==============================] - 0s 51us/step - loss: 0.6122 - acc: 0.6421 - val_loss: 0.6381 - val_acc: 0.6385\n",
            "Epoch 36/100\n",
            "3529/3529 [==============================] - 0s 49us/step - loss: 0.6054 - acc: 0.6520 - val_loss: 0.6333 - val_acc: 0.6644\n",
            "Epoch 37/100\n",
            "3529/3529 [==============================] - 0s 45us/step - loss: 0.6083 - acc: 0.6585 - val_loss: 0.6353 - val_acc: 0.6304\n",
            "Epoch 38/100\n",
            "3529/3529 [==============================] - 0s 46us/step - loss: 0.5971 - acc: 0.6566 - val_loss: 0.6314 - val_acc: 0.6523\n",
            "Epoch 39/100\n",
            "3529/3529 [==============================] - 0s 44us/step - loss: 0.5946 - acc: 0.6651 - val_loss: 0.6272 - val_acc: 0.6667\n",
            "Epoch 40/100\n",
            "3529/3529 [==============================] - 0s 44us/step - loss: 0.5807 - acc: 0.6665 - val_loss: 0.6250 - val_acc: 0.6667\n",
            "Epoch 41/100\n",
            "3529/3529 [==============================] - 0s 44us/step - loss: 0.5953 - acc: 0.6676 - val_loss: 0.6271 - val_acc: 0.6695\n",
            "Epoch 42/100\n",
            "3529/3529 [==============================] - 0s 46us/step - loss: 0.5877 - acc: 0.6795 - val_loss: 0.6258 - val_acc: 0.6765\n",
            "Epoch 43/100\n",
            "3529/3529 [==============================] - 0s 44us/step - loss: 0.5817 - acc: 0.6818 - val_loss: 0.6265 - val_acc: 0.6718\n",
            "Epoch 44/100\n",
            "3529/3529 [==============================] - 0s 48us/step - loss: 0.5887 - acc: 0.6818 - val_loss: 0.6259 - val_acc: 0.6701\n",
            "Epoch 45/100\n",
            "3529/3529 [==============================] - 0s 48us/step - loss: 0.5675 - acc: 0.6914 - val_loss: 0.6216 - val_acc: 0.6718\n",
            "Epoch 46/100\n",
            "3529/3529 [==============================] - 0s 48us/step - loss: 0.5726 - acc: 0.6925 - val_loss: 0.6230 - val_acc: 0.6626\n",
            "Epoch 47/100\n",
            "3529/3529 [==============================] - 0s 48us/step - loss: 0.5758 - acc: 0.6965 - val_loss: 0.6237 - val_acc: 0.6655\n",
            "Epoch 48/100\n",
            "3529/3529 [==============================] - 0s 51us/step - loss: 0.5649 - acc: 0.7008 - val_loss: 0.6218 - val_acc: 0.6638\n",
            "Epoch 49/100\n",
            "3529/3529 [==============================] - 0s 45us/step - loss: 0.5674 - acc: 0.6934 - val_loss: 0.6193 - val_acc: 0.6661\n",
            "Epoch 50/100\n",
            "3529/3529 [==============================] - 0s 45us/step - loss: 0.5583 - acc: 0.6880 - val_loss: 0.6194 - val_acc: 0.6569\n",
            "Epoch 51/100\n",
            "3529/3529 [==============================] - 0s 44us/step - loss: 0.5598 - acc: 0.6940 - val_loss: 0.6184 - val_acc: 0.6661\n",
            "Epoch 52/100\n",
            "3529/3529 [==============================] - 0s 44us/step - loss: 0.5384 - acc: 0.6954 - val_loss: 0.6177 - val_acc: 0.6563\n",
            "Epoch 53/100\n",
            "3529/3529 [==============================] - 0s 45us/step - loss: 0.5502 - acc: 0.7118 - val_loss: 0.6197 - val_acc: 0.6546\n",
            "Epoch 54/100\n",
            "3529/3529 [==============================] - 0s 46us/step - loss: 0.5436 - acc: 0.7101 - val_loss: 0.6223 - val_acc: 0.6540\n",
            "Epoch 55/100\n",
            "3529/3529 [==============================] - 0s 44us/step - loss: 0.5455 - acc: 0.7192 - val_loss: 0.6266 - val_acc: 0.6505\n",
            "Epoch 56/100\n",
            "3529/3529 [==============================] - 0s 45us/step - loss: 0.5431 - acc: 0.7104 - val_loss: 0.6228 - val_acc: 0.6615\n",
            "Epoch 57/100\n",
            "3529/3529 [==============================] - 0s 44us/step - loss: 0.5391 - acc: 0.7155 - val_loss: 0.6177 - val_acc: 0.6655\n",
            "Epoch 58/100\n",
            "3529/3529 [==============================] - 0s 45us/step - loss: 0.5351 - acc: 0.7175 - val_loss: 0.6206 - val_acc: 0.6477\n",
            "Epoch 59/100\n",
            "3529/3529 [==============================] - 0s 47us/step - loss: 0.5331 - acc: 0.7220 - val_loss: 0.6441 - val_acc: 0.6707\n",
            "Epoch 60/100\n",
            "3529/3529 [==============================] - 0s 45us/step - loss: 0.5375 - acc: 0.7266 - val_loss: 0.6280 - val_acc: 0.6528\n",
            "Epoch 61/100\n",
            "3529/3529 [==============================] - 0s 46us/step - loss: 0.5253 - acc: 0.7319 - val_loss: 0.6244 - val_acc: 0.6603\n",
            "Epoch 62/100\n",
            "3529/3529 [==============================] - 0s 45us/step - loss: 0.5137 - acc: 0.7416 - val_loss: 0.6270 - val_acc: 0.6517\n",
            "1737/1737 [==============================] - 0s 57us/step\n",
            "{'loss': 0.6270168261687236, 'acc': 0.6516983509063721}\n",
            "F1 Score : 0.7266154541346588\n",
            "              precision    recall  f1-score   support\n",
            "\n",
            "           0       0.57      0.48      0.52       685\n",
            "           1       0.69      0.76      0.73      1052\n",
            "\n",
            "    accuracy                           0.65      1737\n",
            "   macro avg       0.63      0.62      0.62      1737\n",
            "weighted avg       0.64      0.65      0.65      1737\n",
            "\n"
          ],
          "name": "stdout"
        }
      ]
    },
    {
      "cell_type": "code",
      "metadata": {
        "id": "joD4JGnW3Eqa",
        "colab_type": "code",
        "outputId": "a72ad039-7fa7-4c26-b8be-6e1ee1c9ff93",
        "colab": {
          "base_uri": "https://localhost:8080/",
          "height": 332
        }
      },
      "source": [
        "cm = confusion_matrix(y_true=y_true, y_pred=y_pred)\n",
        "\n",
        "labels = [0, 1]\n",
        "title='Confusion matrix'\n",
        "print(cm)\n",
        "\n",
        "plt.imshow(cm, interpolation='nearest', cmap=plt.cm.Blues)\n",
        "plt.title(title)\n",
        "plt.colorbar()\n",
        "tick_marks = np.arange(len(labels))\n",
        "plt.xticks(tick_marks, labels, rotation=45)\n",
        "plt.yticks(tick_marks, labels)\n",
        "fmt = 'd'\n",
        "thresh = cm.max() / 2.\n",
        "for i, j in itertools.product(range(cm.shape[0]), range(cm.shape[1])):\n",
        "    plt.text(j, i, format(cm[i, j], fmt),\n",
        "            horizontalalignment=\"center\",\n",
        "            color=\"white\" if cm[i, j] > thresh else \"black\")\n",
        "\n",
        "plt.ylabel('True label')\n",
        "plt.xlabel('Predicted label')\n",
        "plt.tight_layout()\n",
        "plt.show()"
      ],
      "execution_count": 20,
      "outputs": [
        {
          "output_type": "stream",
          "text": [
            "[[328 357]\n",
            " [248 804]]\n"
          ],
          "name": "stdout"
        },
        {
          "output_type": "display_data",
          "data": {
            "image/png": "[encoded data removed]",
            "text/plain": [
              "<Figure size 432x288 with 2 Axes>"
            ]
          },
          "metadata": {
            "tags": [],
            "needs_background": "light"
          }
        }
      ]
    },
    {
      "cell_type": "markdown",
      "metadata": {
        "id": "zuccqquW3o6D",
        "colab_type": "text"
      },
      "source": [
        "## 1D CNN"
      ]
    },
    {
      "cell_type": "code",
      "metadata": {
        "id": "w1I1A55I26HK",
        "colab_type": "code",
        "colab": {}
      },
      "source": [
        "def one_dimensional_cnn():\n",
        "    model = Sequential()\n",
        "    model.add(Embedding(len(word_index) + 1, EMBEDDING_DIM, weights=[embedding_matrix], input_length=MAX_SEQUENCE_LENGTH, trainable=False))\n",
        "    \n",
        "    model.add(Conv1D(128, 4, activation='relu'))\n",
        "    model.add(Conv1D(128, 4, activation='relu'))\n",
        "    model.add(MaxPooling1D(2))\n",
        "    model.add(Dropout(0.4))\n",
        "    model.add(Conv1D(128, 4, activation='relu'))\n",
        "    model.add(Conv1D(128, 4, activation='relu'))\n",
        "    model.add(MaxPooling1D(2))\n",
        "    model.add(Dropout(0.4))\n",
        "    model.add(Conv1D(64, 4, activation='relu'))\n",
        "    model.add(Conv1D(64, 4, activation='relu'))\n",
        "    model.add(MaxPooling1D(2))\n",
        "    model.add(Dropout(0.4))\n",
        "    model.add(Conv1D(64, 4, activation='relu'))\n",
        "    model.add(Conv1D(64, 4, activation='relu'))\n",
        "    model.add(MaxPooling1D(2))\n",
        "    model.add(Dropout(0.4))\n",
        "\n",
        "    model.add(Flatten())\n",
        "\n",
        "    model.add(Dense(100, activation='relu'))\n",
        "    model.add(Dropout(0.6))\n",
        "    model.add(Dense(10, activation='relu'))\n",
        "    model.add(Dropout(0.6))\n",
        "    model.add(Dense(2, activation='softmax'))\n",
        "    \n",
        "    print(model.summary())\n",
        "    \n",
        "    return model"
      ],
      "execution_count": 0,
      "outputs": []
    },
    {
      "cell_type": "code",
      "metadata": {
        "id": "WJI9Cshe3MKA",
        "colab_type": "code",
        "outputId": "16c4b6ed-438e-4b72-8222-62345109a8af",
        "colab": {
          "base_uri": "https://localhost:8080/",
          "height": 1000
        }
      },
      "source": [
        "cbacks = EarlyStopping(monitor='val_loss', patience=10)\n",
        "epochs = 100\n",
        "batch_size = 64\n",
        "\n",
        "print(\"Model used : {}\".format(\"CNN Only\"))\n",
        "cnn_model = one_dimensional_cnn()\n",
        "\n",
        "cnn_model.compile(loss='binary_crossentropy',\n",
        "                  optimizer='adam',\n",
        "                  metrics=['acc'])\n",
        "\n",
        "cnn_model.fit(x_train, y_train, \n",
        "              validation_data=(x_val, y_val),\n",
        "              epochs=epochs,\n",
        "              callbacks = [cbacks],\n",
        "              batch_size=batch_size)\n",
        "\n",
        "loss, acc = cnn_model.evaluate(x_val, y_val)\n",
        "print({\"loss\": loss, \"acc\": acc})\n",
        "\n",
        "y_pred = list(map(get_indices, cnn_model.predict(x_val)))\n",
        "y_true = list(map(get_indices, y_val))\n",
        "\n",
        "print(\"F1 Score : {}\".format(f1_score(y_true=y_true, y_pred=y_pred)))\n",
        "print(classification_report(y_true=y_true, y_pred=y_pred))"
      ],
      "execution_count": 22,
      "outputs": [
        {
          "output_type": "stream",
          "text": [
            "Model used : CNN Only\n",
            "Model: \"sequential_2\"\n",
            "_________________________________________________________________\n",
            "Layer (type)                 Output Shape              Param #   \n",
            "=================================================================\n",
            "embedding_2 (Embedding)      (None, 200, 200)          2724800   \n",
            "_________________________________________________________________\n",
            "conv1d_1 (Conv1D)            (None, 197, 128)          102528    \n",
            "_________________________________________________________________\n",
            "conv1d_2 (Conv1D)            (None, 194, 128)          65664     \n",
            "_________________________________________________________________\n",
            "max_pooling1d_1 (MaxPooling1 (None, 97, 128)           0         \n",
            "_________________________________________________________________\n",
            "dropout_7 (Dropout)          (None, 97, 128)           0         \n",
            "_________________________________________________________________\n",
            "conv1d_3 (Conv1D)            (None, 94, 128)           65664     \n",
            "_________________________________________________________________\n",
            "conv1d_4 (Conv1D)            (None, 91, 128)           65664     \n",
            "_________________________________________________________________\n",
            "max_pooling1d_2 (MaxPooling1 (None, 45, 128)           0         \n",
            "_________________________________________________________________\n",
            "dropout_8 (Dropout)          (None, 45, 128)           0         \n",
            "_________________________________________________________________\n",
            "conv1d_5 (Conv1D)            (None, 42, 64)            32832     \n",
            "_________________________________________________________________\n",
            "conv1d_6 (Conv1D)            (None, 39, 64)            16448     \n",
            "_________________________________________________________________\n",
            "max_pooling1d_3 (MaxPooling1 (None, 19, 64)            0         \n",
            "_________________________________________________________________\n",
            "dropout_9 (Dropout)          (None, 19, 64)            0         \n",
            "_________________________________________________________________\n",
            "conv1d_7 (Conv1D)            (None, 16, 64)            16448     \n",
            "_________________________________________________________________\n",
            "conv1d_8 (Conv1D)            (None, 13, 64)            16448     \n",
            "_________________________________________________________________\n",
            "max_pooling1d_4 (MaxPooling1 (None, 6, 64)             0         \n",
            "_________________________________________________________________\n",
            "dropout_10 (Dropout)         (None, 6, 64)             0         \n",
            "_________________________________________________________________\n",
            "flatten_2 (Flatten)          (None, 384)               0         \n",
            "_________________________________________________________________\n",
            "dense_8 (Dense)              (None, 100)               38500     \n",
            "_________________________________________________________________\n",
            "dropout_11 (Dropout)         (None, 100)               0         \n",
            "_________________________________________________________________\n",
            "dense_9 (Dense)              (None, 10)                1010      \n",
            "_________________________________________________________________\n",
            "dropout_12 (Dropout)         (None, 10)                0         \n",
            "_________________________________________________________________\n",
            "dense_10 (Dense)             (None, 2)                 22        \n",
            "=================================================================\n",
            "Total params: 3,146,028\n",
            "Trainable params: 421,228\n",
            "Non-trainable params: 2,724,800\n",
            "_________________________________________________________________\n",
            "None\n",
            "Train on 3529 samples, validate on 1737 samples\n",
            "Epoch 1/100\n",
            "3529/3529 [==============================] - 8s 2ms/step - loss: 0.6748 - acc: 0.6107 - val_loss: 0.6737 - val_acc: 0.6056\n",
            "Epoch 2/100\n",
            "3529/3529 [==============================] - 1s 203us/step - loss: 0.6701 - acc: 0.6186 - val_loss: 0.6698 - val_acc: 0.6056\n",
            "Epoch 3/100\n",
            "3529/3529 [==============================] - 1s 212us/step - loss: 0.6694 - acc: 0.6186 - val_loss: 0.6710 - val_acc: 0.6056\n",
            "Epoch 4/100\n",
            "3529/3529 [==============================] - 1s 212us/step - loss: 0.6688 - acc: 0.6186 - val_loss: 0.6705 - val_acc: 0.6056\n",
            "Epoch 5/100\n",
            "3529/3529 [==============================] - 1s 207us/step - loss: 0.6658 - acc: 0.6186 - val_loss: 0.6685 - val_acc: 0.6056\n",
            "Epoch 6/100\n",
            "3529/3529 [==============================] - 1s 208us/step - loss: 0.6647 - acc: 0.6203 - val_loss: 0.6696 - val_acc: 0.6056\n",
            "Epoch 7/100\n",
            "3529/3529 [==============================] - 1s 214us/step - loss: 0.6652 - acc: 0.6206 - val_loss: 0.6671 - val_acc: 0.6056\n",
            "Epoch 8/100\n",
            "3529/3529 [==============================] - 1s 213us/step - loss: 0.6594 - acc: 0.6234 - val_loss: 0.6533 - val_acc: 0.6287\n",
            "Epoch 9/100\n",
            "3529/3529 [==============================] - 1s 212us/step - loss: 0.6549 - acc: 0.6396 - val_loss: 0.6621 - val_acc: 0.6126\n",
            "Epoch 10/100\n",
            "3529/3529 [==============================] - 1s 218us/step - loss: 0.6502 - acc: 0.6441 - val_loss: 0.6631 - val_acc: 0.6126\n",
            "Epoch 11/100\n",
            "3529/3529 [==============================] - 1s 220us/step - loss: 0.6366 - acc: 0.6560 - val_loss: 0.6622 - val_acc: 0.6390\n",
            "Epoch 12/100\n",
            "3529/3529 [==============================] - 1s 209us/step - loss: 0.6242 - acc: 0.6704 - val_loss: 0.6733 - val_acc: 0.6275\n",
            "Epoch 13/100\n",
            "3529/3529 [==============================] - 1s 229us/step - loss: 0.6186 - acc: 0.6815 - val_loss: 0.6661 - val_acc: 0.6315\n",
            "Epoch 14/100\n",
            "3529/3529 [==============================] - 1s 211us/step - loss: 0.6047 - acc: 0.6931 - val_loss: 0.6701 - val_acc: 0.6287\n",
            "Epoch 15/100\n",
            "3529/3529 [==============================] - 1s 216us/step - loss: 0.5906 - acc: 0.7044 - val_loss: 0.7018 - val_acc: 0.6246\n",
            "Epoch 16/100\n",
            "3529/3529 [==============================] - 1s 206us/step - loss: 0.5781 - acc: 0.7104 - val_loss: 0.7273 - val_acc: 0.6379\n",
            "Epoch 17/100\n",
            "3529/3529 [==============================] - 1s 205us/step - loss: 0.5849 - acc: 0.7158 - val_loss: 0.6913 - val_acc: 0.6287\n",
            "Epoch 18/100\n",
            "3529/3529 [==============================] - 1s 210us/step - loss: 0.5736 - acc: 0.7172 - val_loss: 0.7224 - val_acc: 0.6367\n",
            "1737/1737 [==============================] - 0s 260us/step\n",
            "{'loss': 0.722361077779178, 'acc': 0.6367300152778625}\n",
            "F1 Score : 0.7577735124760077\n",
            "              precision    recall  f1-score   support\n",
            "\n",
            "           0       0.65      0.17      0.27       685\n",
            "           1       0.64      0.94      0.76      1052\n",
            "\n",
            "    accuracy                           0.64      1737\n",
            "   macro avg       0.64      0.56      0.52      1737\n",
            "weighted avg       0.64      0.64      0.57      1737\n",
            "\n"
          ],
          "name": "stdout"
        }
      ]
    },
    {
      "cell_type": "code",
      "metadata": {
        "id": "5ggiwYCT3MMi",
        "colab_type": "code",
        "outputId": "8e8598b9-9ff7-45b0-8155-7dd365f74144",
        "colab": {
          "base_uri": "https://localhost:8080/",
          "height": 332
        }
      },
      "source": [
        "cm = confusion_matrix(y_true=y_true, y_pred=y_pred)\n",
        "\n",
        "labels = [0, 1]\n",
        "title='Confusion matrix'\n",
        "print(cm)\n",
        "\n",
        "plt.imshow(cm, interpolation='nearest', cmap=plt.cm.Blues)\n",
        "plt.title(title)\n",
        "plt.colorbar()\n",
        "tick_marks = np.arange(len(labels))\n",
        "plt.xticks(tick_marks, labels, rotation=45)\n",
        "plt.yticks(tick_marks, labels)\n",
        "fmt = 'd'\n",
        "thresh = cm.max() / 2.\n",
        "for i, j in itertools.product(range(cm.shape[0]), range(cm.shape[1])):\n",
        "    plt.text(j, i, format(cm[i, j], fmt),\n",
        "            horizontalalignment=\"center\",\n",
        "            color=\"white\" if cm[i, j] > thresh else \"black\")\n",
        "\n",
        "plt.ylabel('True label')\n",
        "plt.xlabel('Predicted label')\n",
        "plt.tight_layout()\n",
        "plt.show()"
      ],
      "execution_count": 23,
      "outputs": [
        {
          "output_type": "stream",
          "text": [
            "[[119 566]\n",
            " [ 65 987]]\n"
          ],
          "name": "stdout"
        },
        {
          "output_type": "display_data",
          "data": {
            "image/png": "[encoded data removed]",
            "text/plain": [
              "<Figure size 432x288 with 2 Axes>"
            ]
          },
          "metadata": {
            "tags": [],
            "needs_background": "light"
          }
        }
      ]
    },
    {
      "cell_type": "markdown",
      "metadata": {
        "id": "GmM0EZmO3rub",
        "colab_type": "text"
      },
      "source": [
        "## LSTM"
      ]
    },
    {
      "cell_type": "code",
      "metadata": {
        "id": "VO13GZIM27er",
        "colab_type": "code",
        "colab": {}
      },
      "source": [
        "def lstm_model():\n",
        "    model = Sequential()\n",
        "    model.add(Embedding(len(word_index) + 1, EMBEDDING_DIM, weights=[embedding_matrix], input_length=MAX_SEQUENCE_LENGTH, trainable=False))\n",
        "    model.add(LSTM(30, activation=\"relu\", return_sequences=True, recurrent_dropout=0.3))\n",
        "    model.add(Dropout(0.3))\n",
        "    model.add(LSTM(30, activation=\"relu\", return_sequences=True, recurrent_dropout=0.3))\n",
        "    model.add(Dropout(0.3))\n",
        "    model.add(LSTM(30, activation=\"relu\", return_sequences=True, recurrent_dropout=0.3))\n",
        "    model.add(Dropout(0.3))\n",
        "    model.add(Flatten())\n",
        "    model.add(Dense(1000, activation=\"relu\"))\n",
        "    model.add(Dense(100, activation=\"relu\"))\n",
        "    model.add(Dense(10, activation=\"relu\"))\n",
        "    model.add(Dense(2, activation=\"softmax\"))\n",
        "    print(model.summary())\n",
        "    \n",
        "    return model"
      ],
      "execution_count": 0,
      "outputs": []
    },
    {
      "cell_type": "code",
      "metadata": {
        "id": "8BR7jamj3Hfq",
        "colab_type": "code",
        "outputId": "0d2449e6-6082-4a8b-ec7c-51158cd4f41e",
        "colab": {
          "base_uri": "https://localhost:8080/",
          "height": 1000
        }
      },
      "source": [
        "cbacks = EarlyStopping(monitor='val_loss', patience=10)\n",
        "epochs = 100\n",
        "batch_size = 64\n",
        "\n",
        "print(\"Model used : {}\".format(\"LSTM Only\"))\n",
        "lstm = lstm_model()\n",
        "\n",
        "lstm.compile(loss='binary_crossentropy',\n",
        "             optimizer='adam',\n",
        "             metrics=['acc']\n",
        ")\n",
        "\n",
        "lstm.fit(x_train, y_train, \n",
        "         validation_data=(x_val, y_val),\n",
        "         epochs=epochs, \n",
        "         callbacks = [cbacks],\n",
        "         batch_size=batch_size\n",
        ")\n",
        "\n",
        "loss, acc = lstm.evaluate(x_val, y_val)\n",
        "print({\"loss\": loss, \"acc\": acc})\n",
        "\n",
        "y_pred = list(map(get_indices, lstm.predict(x_val)))\n",
        "y_true = list(map(get_indices, y_val))\n",
        "\n",
        "print(\"F1 Score : {}\".format(f1_score(y_true=y_true, y_pred=y_pred)))\n",
        "print(classification_report(y_true=y_true, y_pred=y_pred))"
      ],
      "execution_count": 25,
      "outputs": [
        {
          "output_type": "stream",
          "text": [
            "Model used : LSTM Only\n",
            "Model: \"sequential_3\"\n",
            "_________________________________________________________________\n",
            "Layer (type)                 Output Shape              Param #   \n",
            "=================================================================\n",
            "embedding_3 (Embedding)      (None, 200, 200)          2724800   \n",
            "_________________________________________________________________\n",
            "lstm_1 (LSTM)                (None, 200, 30)           27720     \n",
            "_________________________________________________________________\n",
            "dropout_13 (Dropout)         (None, 200, 30)           0         \n",
            "_________________________________________________________________\n",
            "lstm_2 (LSTM)                (None, 200, 30)           7320      \n",
            "_________________________________________________________________\n",
            "dropout_14 (Dropout)         (None, 200, 30)           0         \n",
            "_________________________________________________________________\n",
            "lstm_3 (LSTM)                (None, 200, 30)           7320      \n",
            "_________________________________________________________________\n",
            "dropout_15 (Dropout)         (None, 200, 30)           0         \n",
            "_________________________________________________________________\n",
            "flatten_3 (Flatten)          (None, 6000)              0         \n",
            "_________________________________________________________________\n",
            "dense_11 (Dense)             (None, 1000)              6001000   \n",
            "_________________________________________________________________\n",
            "dense_12 (Dense)             (None, 100)               100100    \n",
            "_________________________________________________________________\n",
            "dense_13 (Dense)             (None, 10)                1010      \n",
            "_________________________________________________________________\n",
            "dense_14 (Dense)             (None, 2)                 22        \n",
            "=================================================================\n",
            "Total params: 8,869,292\n",
            "Trainable params: 6,144,492\n",
            "Non-trainable params: 2,724,800\n",
            "_________________________________________________________________\n",
            "None\n",
            "Train on 3529 samples, validate on 1737 samples\n",
            "Epoch 1/100\n",
            "3529/3529 [==============================] - 60s 17ms/step - loss: 0.6752 - acc: 0.6160 - val_loss: 0.6679 - val_acc: 0.6056\n",
            "Epoch 2/100\n",
            "3529/3529 [==============================] - 59s 17ms/step - loss: 0.6596 - acc: 0.6186 - val_loss: 0.6516 - val_acc: 0.6056\n",
            "Epoch 3/100\n",
            "3529/3529 [==============================] - 60s 17ms/step - loss: 0.6440 - acc: 0.6356 - val_loss: 0.6283 - val_acc: 0.6655\n",
            "Epoch 4/100\n",
            "3529/3529 [==============================] - 61s 17ms/step - loss: 0.6352 - acc: 0.6631 - val_loss: 0.6076 - val_acc: 0.6816\n",
            "Epoch 5/100\n",
            "3529/3529 [==============================] - 60s 17ms/step - loss: 0.6140 - acc: 0.6815 - val_loss: 0.6084 - val_acc: 0.6966\n",
            "Epoch 6/100\n",
            "3529/3529 [==============================] - 59s 17ms/step - loss: 0.5816 - acc: 0.6934 - val_loss: 0.5935 - val_acc: 0.6978\n",
            "Epoch 7/100\n",
            "3529/3529 [==============================] - 59s 17ms/step - loss: 0.5673 - acc: 0.6974 - val_loss: 0.5961 - val_acc: 0.6937\n",
            "Epoch 8/100\n",
            "3529/3529 [==============================] - 58s 16ms/step - loss: 0.5519 - acc: 0.7101 - val_loss: 0.5983 - val_acc: 0.6943\n",
            "Epoch 9/100\n",
            "3529/3529 [==============================] - 58s 17ms/step - loss: 0.5394 - acc: 0.7203 - val_loss: 0.6013 - val_acc: 0.6972\n",
            "Epoch 10/100\n",
            "3529/3529 [==============================] - 60s 17ms/step - loss: 0.5142 - acc: 0.7433 - val_loss: 0.6439 - val_acc: 0.6667\n",
            "Epoch 11/100\n",
            "3529/3529 [==============================] - 60s 17ms/step - loss: 0.4878 - acc: 0.7484 - val_loss: 0.6749 - val_acc: 0.6845\n",
            "Epoch 12/100\n",
            "3529/3529 [==============================] - 61s 17ms/step - loss: 0.4746 - acc: 0.7625 - val_loss: 0.6523 - val_acc: 0.6822\n",
            "Epoch 13/100\n",
            "3529/3529 [==============================] - 60s 17ms/step - loss: 0.4532 - acc: 0.7778 - val_loss: 0.7302 - val_acc: 0.6880\n",
            "Epoch 14/100\n",
            "3529/3529 [==============================] - 60s 17ms/step - loss: 0.4267 - acc: 0.7980 - val_loss: 0.6980 - val_acc: 0.6747\n",
            "Epoch 15/100\n",
            "3529/3529 [==============================] - 60s 17ms/step - loss: 0.4052 - acc: 0.8101 - val_loss: 0.6994 - val_acc: 0.6765\n",
            "Epoch 16/100\n",
            "3529/3529 [==============================] - 59s 17ms/step - loss: 0.3964 - acc: 0.8104 - val_loss: 0.8383 - val_acc: 0.6782\n",
            "1737/1737 [==============================] - 5s 3ms/step\n",
            "{'loss': 0.838316700207343, 'acc': 0.6781807541847229}\n",
            "F1 Score : 0.7560017459624618\n",
            "              precision    recall  f1-score   support\n",
            "\n",
            "           0       0.63      0.46      0.53       685\n",
            "           1       0.70      0.82      0.76      1052\n",
            "\n",
            "    accuracy                           0.68      1737\n",
            "   macro avg       0.66      0.64      0.64      1737\n",
            "weighted avg       0.67      0.68      0.67      1737\n",
            "\n"
          ],
          "name": "stdout"
        }
      ]
    },
    {
      "cell_type": "code",
      "metadata": {
        "id": "xilqTriZ3FUi",
        "colab_type": "code",
        "colab": {
          "base_uri": "https://localhost:8080/",
          "height": 332
        },
        "outputId": "8638392a-66d4-4ec0-a20f-920c893c7054"
      },
      "source": [
        "cm = confusion_matrix(y_true=y_true, y_pred=y_pred)\n",
        "\n",
        "labels = [0, 1]\n",
        "title='Confusion matrix'\n",
        "print(cm)\n",
        "\n",
        "plt.imshow(cm, interpolation='nearest', cmap=plt.cm.Blues)\n",
        "plt.title(title)\n",
        "plt.colorbar()\n",
        "tick_marks = np.arange(len(labels))\n",
        "plt.xticks(tick_marks, labels, rotation=45)\n",
        "plt.yticks(tick_marks, labels)\n",
        "fmt = 'd'\n",
        "thresh = cm.max() / 2.\n",
        "for i, j in itertools.product(range(cm.shape[0]), range(cm.shape[1])):\n",
        "    plt.text(j, i, format(cm[i, j], fmt),\n",
        "            horizontalalignment=\"center\",\n",
        "            color=\"white\" if cm[i, j] > thresh else \"black\")\n",
        "\n",
        "plt.ylabel('True label')\n",
        "plt.xlabel('Predicted label')\n",
        "plt.tight_layout()\n",
        "plt.show()"
      ],
      "execution_count": 26,
      "outputs": [
        {
          "output_type": "stream",
          "text": [
            "[[312 373]\n",
            " [186 866]]\n"
          ],
          "name": "stdout"
        },
        {
          "output_type": "display_data",
          "data": {
            "image/png": "[encoded data removed]",
            "text/plain": [
              "<Figure size 432x288 with 2 Axes>"
            ]
          },
          "metadata": {
            "tags": [],
            "needs_background": "light"
          }
        }
      ]
    },
    {
      "cell_type": "markdown",
      "metadata": {
        "id": "AJHlOoNg3cF7",
        "colab_type": "text"
      },
      "source": [
        "# Testing"
      ]
    },
    {
      "cell_type": "code",
      "metadata": {
        "id": "YHPvGBfK3UVj",
        "colab_type": "code",
        "colab": {
          "base_uri": "https://localhost:8080/",
          "height": 206
        },
        "outputId": "e456bc9f-efcf-4121-cc9d-561de31cd4b4"
      },
      "source": [
        "test_data[\"clean_text\"] = test_data.text.apply(lambda x: clean_text(x))\n",
        "test_data.head()"
      ],
      "execution_count": 27,
      "outputs": [
        {
          "output_type": "execute_result",
          "data": {
            "text/html": [
              "<div>\n",
              "<style scoped>\n",
              "    .dataframe tbody tr th:only-of-type {\n",
              "        vertical-align: middle;\n",
              "    }\n",
              "\n",
              "    .dataframe tbody tr th {\n",
              "        vertical-align: top;\n",
              "    }\n",
              "\n",
              "    .dataframe thead th {\n",
              "        text-align: right;\n",
              "    }\n",
              "</style>\n",
              "<table border=\"1\" class=\"dataframe\">\n",
              "  <thead>\n",
              "    <tr style=\"text-align: right;\">\n",
              "      <th></th>\n",
              "      <th>Unnamed: 0</th>\n",
              "      <th>text_id</th>\n",
              "      <th>text</th>\n",
              "      <th>clean_text</th>\n",
              "    </tr>\n",
              "  </thead>\n",
              "  <tbody>\n",
              "    <tr>\n",
              "      <th>0</th>\n",
              "      <td>0</td>\n",
              "      <td>hasoc_en_902</td>\n",
              "      <td>West Bengal Doctor Crisis: Protesting doctors ...</td>\n",
              "      <td>west bengal doctor crisis protesting doctors a...</td>\n",
              "    </tr>\n",
              "    <tr>\n",
              "      <th>1</th>\n",
              "      <td>1</td>\n",
              "      <td>hasoc_en_416</td>\n",
              "      <td>68.5 million people have been forced to leave ...</td>\n",
              "      <td>million people have been forced to leave their...</td>\n",
              "    </tr>\n",
              "    <tr>\n",
              "      <th>2</th>\n",
              "      <td>2</td>\n",
              "      <td>hasoc_en_207</td>\n",
              "      <td>You came, you saw .... we will look after the ...</td>\n",
              "      <td>you came you saw we will look after the fort g...</td>\n",
              "    </tr>\n",
              "    <tr>\n",
              "      <th>3</th>\n",
              "      <td>3</td>\n",
              "      <td>hasoc_en_595</td>\n",
              "      <td>We'll get Brexit delivered by October 31st.   ...</td>\n",
              "      <td>we ll get brexit delivered by october st help ...</td>\n",
              "    </tr>\n",
              "    <tr>\n",
              "      <th>4</th>\n",
              "      <td>4</td>\n",
              "      <td>hasoc_en_568</td>\n",
              "      <td>Fuck you. Go back to the dark ages you cow @IB...</td>\n",
              "      <td>fuck you go back to the dark ages you cow rape...</td>\n",
              "    </tr>\n",
              "  </tbody>\n",
              "</table>\n",
              "</div>"
            ],
            "text/plain": [
              "   Unnamed: 0  ...                                         clean_text\n",
              "0           0  ...  west bengal doctor crisis protesting doctors a...\n",
              "1           1  ...  million people have been forced to leave their...\n",
              "2           2  ...  you came you saw we will look after the fort g...\n",
              "3           3  ...  we ll get brexit delivered by october st help ...\n",
              "4           4  ...  fuck you go back to the dark ages you cow rape...\n",
              "\n",
              "[5 rows x 4 columns]"
            ]
          },
          "metadata": {
            "tags": []
          },
          "execution_count": 27
        }
      ]
    },
    {
      "cell_type": "code",
      "metadata": {
        "id": "3FdBpkPc31yB",
        "colab_type": "code",
        "colab": {
          "base_uri": "https://localhost:8080/",
          "height": 34
        },
        "outputId": "5ec4b4dd-515c-474c-e2fc-a966437de323"
      },
      "source": [
        "tokenizer.fit_on_texts(test_data[\"clean_text\"])\n",
        "\n",
        "sequences = tokenizer.texts_to_sequences(test_data[\"clean_text\"])\n",
        "\n",
        "word_index = tokenizer.word_index\n",
        "print('Found %s unique tokens.' % len(word_index))\n",
        "\n",
        "data = pad_sequences(sequences, maxlen=MAX_SEQUENCE_LENGTH)"
      ],
      "execution_count": 28,
      "outputs": [
        {
          "output_type": "stream",
          "text": [
            "Found 16351 unique tokens.\n"
          ],
          "name": "stdout"
        }
      ]
    },
    {
      "cell_type": "code",
      "metadata": {
        "id": "-qP_H82R3-hS",
        "colab_type": "code",
        "colab": {}
      },
      "source": [
        "predictions = list(map(get_indices, lstm.predict(data)))\n",
        "pd.DataFrame({\"labels\": predictions}).to_csv(\"/gdrive/My Drive/Dataset/AICrowd/HateSpeechDetection/submission.csv\", index=True)"
      ],
      "execution_count": 0,
      "outputs": []
    }
  ]
}